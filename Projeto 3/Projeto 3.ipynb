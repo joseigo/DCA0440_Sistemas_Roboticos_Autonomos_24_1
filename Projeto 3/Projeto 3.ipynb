{
 "cells": [
  {
   "cell_type": "markdown",
   "metadata": {},
   "source": [
    "# **Meta 1**"
   ]
  },
  {
   "cell_type": "markdown",
   "metadata": {},
   "source": [
    "Incluir modelo de sensor de alcance (sonar) no robô simulado.\n",
    "Implementar telecomando do robô a partir do teclado, de modo a\n",
    "controlar o seu movimento para frente ou para trás e para a direita\n",
    "ou para a esquerda. O simulador deve apresentar nova tela com as\n",
    "medições obtidas pelo sensor de alcance a partir dos obstáculos\n",
    "detectados pelo mesmo em função do tempo, assim como a posição\n",
    "(x,y) em função do tempo"
   ]
  },
  {
   "cell_type": "markdown",
   "metadata": {},
   "source": [
    "Obs.: Inserir as seguintes linhas ao script do robô para ser desenhado o caminho\n",
    "\n",
    "```lua\n",
    "--lua\n",
    "\n",
    "sim = require('sim')\n",
    "\n",
    "function sysCall_init()\n",
    "    robot = sim.getObject('.')\n",
    "    robotTrace = sim.addDrawingObject(sim.drawing_linestrip + sim.drawing_cyclic, 8, 0, -1, 400, {1, 1, 0}, nil, nil, {1, 1, 0})\n",
    "end\n",
    "\n",
    "function sysCall_sensing()\n",
    "    local p = sim.getObjectPosition(robot)\n",
    "    p[3]=0\n",
    "    sim.addDrawingObjectItem(robotTrace, p)\n",
    "end \n",
    "```\n"
   ]
  },
  {
   "cell_type": "code",
   "execution_count": 1,
   "metadata": {},
   "outputs": [
    {
     "data": {
      "image/png": "[encoded data removed]",
      "text/plain": [
       "<Figure size 640x480 with 1 Axes>"
      ]
     },
     "metadata": {},
     "output_type": "display_data"
    },
    {
     "name": "stdout",
     "output_type": "stream",
     "text": [
      "Program ended\n"
     ]
    }
   ],
   "source": [
    "from RobotLibrary import *\n",
    "\n",
    "print('Program started')\n",
    "sim.simxFinish(-1)\n",
    "clientID = sim.simxStart('127.0.0.1', 19999, True, True, 5000, 5)\n",
    "\n",
    "if clientID != -1:\n",
    "    print('Connected to remote API server')\n",
    "    try:\n",
    "        controller = RobotController(clientID)\n",
    "        controller.clear_map_grid()\n",
    "        # controller.fill_map_grid(1, 1)\n",
    "        controller.manual_control_loop()\n",
    "        \n",
    "        # controller.fill_map_grid(np.array([0,0,0]),0.534)\n",
    "        \n",
    "\n",
    "    except Exception as e:\n",
    "        print(f\"An error occurred: {e}\")\n",
    "\n",
    "    sim.simxFinish(clientID)\n",
    "else:\n",
    "    print('Failed connecting to remote API server')\n",
    "\n",
    "print('Program ended')"
   ]
  }
 ],
 "metadata": {
  "kernelspec": {
   "display_name": "Python 3",
   "language": "python",
   "name": "python3"
  },
  "language_info": {
   "codemirror_mode": {
    "name": "ipython",
    "version": 3
   },
   "file_extension": ".py",
   "mimetype": "text/x-python",
   "name": "python",
   "nbconvert_exporter": "python",
   "pygments_lexer": "ipython3",
   "version": "3.11.1"
  }
 },
 "nbformat": 4,
 "nbformat_minor": 2
}
